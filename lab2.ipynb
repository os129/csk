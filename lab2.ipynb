{
 "cells": [
  {
   "cell_type": "code",
   "execution_count": 1,
   "metadata": {},
   "outputs": [],
   "source": [
    "import numpy as np \n",
    "import pandas as pd"
   ]
  },
  {
   "cell_type": "code",
   "execution_count": 12,
   "metadata": {},
   "outputs": [
    {
     "data": {
      "text/plain": [
       "(['Frequency of Purchases'],\n",
       " ['Gender',\n",
       "  'Coupon_Status',\n",
       "  'Coupon_Code',\n",
       "  'Transaction_Date',\n",
       "  'Item Purchased',\n",
       "  'Category',\n",
       "  'Location',\n",
       "  'Subscription Status',\n",
       "  'Payment Method',\n",
       "  'Shipping Type'],\n",
       " ['Customer_ID',\n",
       "  'Transaction_ID',\n",
       "  'Quantity',\n",
       "  'Avg_Price',\n",
       "  'Delivery_Charges',\n",
       "  'GST',\n",
       "  'Age',\n",
       "  'Review Rating',\n",
       "  'Previous Purchases'])"
      ]
     },
     "execution_count": 12,
     "metadata": {},
     "output_type": "execute_result"
    }
   ],
   "source": [
    "df = pd.read_csv('updated.csv')\n",
    "\n",
    "numeric_attr = df.select_dtypes(include = [np.number]).columns.tolist()\n",
    "numeric_attr\n",
    "\n",
    "categorical_attr = df.select_dtypes(include = ['object']).columns.tolist()\n",
    "\n",
    "ordinal_sampling = {\n",
    "    'Frequency of Purchases' : ['Weekly','Fortnightly','Bi-Weekly','Monthly','Every 3 Months','Quaterly','Annually']\n",
    "}\n",
    "\n",
    "ordinal_attribute = [col for col in ordinal_sampling if col in df.columns]\n",
    "\n",
    "nominal_attribute = [col for col in categorical_attr if col not in ordinal_attribute]\n",
    "\n",
    "ordinal_attribute,nominal_attribute,numeric_attr"
   ]
  }
 ],
 "metadata": {
  "kernelspec": {
   "display_name": "Python 3",
   "language": "python",
   "name": "python3"
  },
  "language_info": {
   "codemirror_mode": {
    "name": "ipython",
    "version": 3
   },
   "file_extension": ".py",
   "mimetype": "text/x-python",
   "name": "python",
   "nbconvert_exporter": "python",
   "pygments_lexer": "ipython3",
   "version": "3.12.9"
  }
 },
 "nbformat": 4,
 "nbformat_minor": 2
}
