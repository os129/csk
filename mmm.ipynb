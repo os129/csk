{
 "cells": [
  {
   "cell_type": "code",
   "execution_count": 1,
   "metadata": {},
   "outputs": [
    {
     "name": "stdout",
     "output_type": "stream",
     "text": [
      "Mean of Customer_ID: 1982.2178690874343\n",
      "Median of Customer_ID: 1964.0\n",
      "Mode of Customer_ID: 1\n"
     ]
    }
   ],
   "source": [
    "import pandas as pd\n",
    "import statistics\n",
    "\n",
    "# Load the dataset\n",
    "df = pd.read_csv(\"./updated.csv\")\n",
    "\n",
    "# Select the column (Change 'Column_Name' to your actual column)\n",
    "column_name = \"Customer_ID\"  # Replace with the actual column name\n",
    "data = df[column_name].dropna()  # Remove NaN values if any\n",
    "\n",
    "# Calculate Mean, Median, Mode\n",
    "mean_value = data.mean()\n",
    "median_value = data.median()\n",
    "mode_value = data.mode()[0] if not data.mode().empty else \"No mode\"\n",
    "\n",
    "# Print Results\n",
    "print(f\"Mean of {column_name}: {mean_value}\")\n",
    "print(f\"Median of {column_name}: {median_value}\")\n",
    "print(f\"Mode of {column_name}: {mode_value}\")\n"
   ]
  }
 ],
 "metadata": {
  "kernelspec": {
   "display_name": "venv",
   "language": "python",
   "name": "python3"
  },
  "language_info": {
   "codemirror_mode": {
    "name": "ipython",
    "version": 3
   },
   "file_extension": ".py",
   "mimetype": "text/x-python",
   "name": "python",
   "nbconvert_exporter": "python",
   "pygments_lexer": "ipython3",
   "version": "3.12.3"
  }
 },
 "nbformat": 4,
 "nbformat_minor": 2
}
