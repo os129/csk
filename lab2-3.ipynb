{
 "cells": [
  {
   "cell_type": "code",
   "execution_count": 3,
   "metadata": {},
   "outputs": [],
   "source": [
    "from sklearn.model_selection import train_test_split\n",
    "import pandas as pd"
   ]
  },
  {
   "cell_type": "code",
   "execution_count": null,
   "metadata": {},
   "outputs": [
    {
     "data": {
      "text/plain": [
       "(Category\n",
       " Clothing       0.457716\n",
       " Accessories    0.308170\n",
       " Footwear       0.151935\n",
       " Outerwear      0.082179\n",
       " Name: proportion, dtype: float64,\n",
       " Category\n",
       " Clothing       0.456938\n",
       " Accessories    0.308612\n",
       " Footwear       0.153110\n",
       " Outerwear      0.081340\n",
       " Name: proportion, dtype: float64)"
      ]
     },
     "execution_count": 7,
     "metadata": {},
     "output_type": "execute_result"
    }
   ],
   "source": [
    "df= pd.read_csv('./updated.csv')\n",
    "\n",
    "attribute = \"Category\"\n",
    "\n",
    "if attribute not in df.columns:\n",
    "    raise ValueError(\"Attribute Error\")\n",
    "stratified_sample , _ = train_test_split(df , test_size=0.8 , stratify=df[attribute], random_state=42)\n",
    "\n",
    "df[attribute].value_counts(normalize = True) , stratified_sample[attribute].value_counts(normalize = True)"
   ]
  }
 ],
 "metadata": {
  "kernelspec": {
   "display_name": "Python 3",
   "language": "python",
   "name": "python3"
  },
  "language_info": {
   "codemirror_mode": {
    "name": "ipython",
    "version": 3
   },
   "file_extension": ".py",
   "mimetype": "text/x-python",
   "name": "python",
   "nbconvert_exporter": "python",
   "pygments_lexer": "ipython3",
   "version": "3.12.9"
  }
 },
 "nbformat": 4,
 "nbformat_minor": 2
}
