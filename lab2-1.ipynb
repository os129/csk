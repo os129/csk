{
 "cells": [
  {
   "cell_type": "code",
   "execution_count": 2,
   "metadata": {},
   "outputs": [],
   "source": [
    "from sklearn.preprocessing import MinMaxScaler ,LabelEncoder\n",
    "import pandas as pd"
   ]
  },
  {
   "cell_type": "code",
   "execution_count": 7,
   "metadata": {},
   "outputs": [
    {
     "data": {
      "text/plain": [
       "Category  new     \n",
       "1         0.333333    0.457716\n",
       "0         0.000000    0.308170\n",
       "2         0.666667    0.151935\n",
       "3         1.000000    0.082179\n",
       "Name: proportion, dtype: float64"
      ]
     },
     "execution_count": 7,
     "metadata": {},
     "output_type": "execute_result"
    }
   ],
   "source": [
    "df = pd.read_csv('./updated.csv')\n",
    "attribute = \"Category\"\n",
    "\n",
    "le = LabelEncoder()\n",
    "df[attribute] = le.fit_transform(df[attribute])\n",
    "\n",
    "scaler = MinMaxScaler()\n",
    "df[\"new\"]= scaler.fit_transform(df[[attribute]])\n",
    "df[[attribute, \"new\"]].value_counts(normalize=True)"
   ]
  }
 ],
 "metadata": {
  "kernelspec": {
   "display_name": "Python 3",
   "language": "python",
   "name": "python3"
  },
  "language_info": {
   "codemirror_mode": {
    "name": "ipython",
    "version": 3
   },
   "file_extension": ".py",
   "mimetype": "text/x-python",
   "name": "python",
   "nbconvert_exporter": "python",
   "pygments_lexer": "ipython3",
   "version": "3.12.9"
  }
 },
 "nbformat": 4,
 "nbformat_minor": 2
}
