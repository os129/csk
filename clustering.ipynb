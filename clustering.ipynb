{
 "cells": [
  {
   "cell_type": "code",
   "execution_count": null,
   "metadata": {},
   "outputs": [
    {
     "ename": "TypeError",
     "evalue": "DBSCAN.__init__() got an unexpected keyword argument 'n_clusters'",
     "output_type": "error",
     "traceback": [
      "\u001b[31m---------------------------------------------------------------------------\u001b[39m",
      "\u001b[31mTypeError\u001b[39m                                 Traceback (most recent call last)",
      "\u001b[36mCell\u001b[39m\u001b[36m \u001b[39m\u001b[32mIn[3]\u001b[39m\u001b[32m, line 18\u001b[39m\n\u001b[32m     15\u001b[39m     df[col] = le.fit_transform(df[col])\n\u001b[32m     17\u001b[39m \u001b[38;5;66;03m# Apply K-Medoids Clustering\u001b[39;00m\n\u001b[32m---> \u001b[39m\u001b[32m18\u001b[39m kmedoids = \u001b[43mDBSCAN\u001b[49m\u001b[43m(\u001b[49m\u001b[43mn_clusters\u001b[49m\u001b[43m=\u001b[49m\u001b[32;43m2\u001b[39;49m\u001b[43m)\u001b[49m\n\u001b[32m     19\u001b[39m df[\u001b[33m\"\u001b[39m\u001b[33mcluster\u001b[39m\u001b[33m\"\u001b[39m] = kmedoids.fit_predict(x)\n\u001b[32m     21\u001b[39m \u001b[38;5;66;03m# Visualization\u001b[39;00m\n",
      "\u001b[31mTypeError\u001b[39m: DBSCAN.__init__() got an unexpected keyword argument 'n_clusters'"
     ]
    }
   ],
   "source": [
    "import pandas as pd\n",
    "import matplotlib.pyplot as plt\n",
    "from sklearn.preprocessing import LabelEncoder\n",
    "from sklearn.cluster import DBSCAN # Import KMedoids\n",
    "\n",
    "# Load Data\n",
    "df = pd.read_csv('./updated.csv')\n",
    "\n",
    "# Select features for clustering\n",
    "x = df[[\"Transaction_ID\", \"Avg_Price\"]]\n",
    "\n",
    "# Encode categorical columns\n",
    "for col in df.columns:\n",
    "    le = LabelEncoder()\n",
    "    df[col] = le.fit_transform(df[col])\n",
    "\n",
    "# Apply K-Medoids Clustering\n",
    "kmedoids = DBSCAN()\n",
    "df[\"cluster\"] = kmedoids.fit_predict(x)\n",
    "\n",
    "# Visualization\n",
    "plt.figure(figsize=(8, 5))\n",
    "plt.scatter(x[\"Transaction_ID\"], x[\"Avg_Price\"], c=df[\"cluster\"], cmap=\"viridis\", alpha=0.6)\n",
    "plt.xlabel(\"Transaction_ID\")\n",
    "plt.ylabel(\"Avg_Price\")\n",
    "plt.title(\"K-Medoids Clustering\")\n",
    "\n",
    "plt.show()\n"
   ]
  }
 ],
 "metadata": {
  "kernelspec": {
   "display_name": "venv",
   "language": "python",
   "name": "python3"
  },
  "language_info": {
   "codemirror_mode": {
    "name": "ipython",
    "version": 3
   },
   "file_extension": ".py",
   "mimetype": "text/x-python",
   "name": "python",
   "nbconvert_exporter": "python",
   "pygments_lexer": "ipython3",
   "version": "3.12.3"
  }
 },
 "nbformat": 4,
 "nbformat_minor": 2
}
