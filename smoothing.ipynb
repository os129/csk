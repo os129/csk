{
 "cells": [
  {
   "cell_type": "code",
   "execution_count": 1,
   "metadata": {},
   "outputs": [
    {
     "name": "stdout",
     "output_type": "stream",
     "text": [
      "   Values  Bin  Mean_Smoothed  Median_Smoothed  Boundary_Smoothed\n",
      "0      12    0          18.75             18.5               12.0\n",
      "1      15    0          18.75             18.5               12.0\n",
      "2      22    0          18.75             18.5               26.0\n",
      "3      26    0          18.75             18.5               26.0\n",
      "4      30    1          32.50             32.5               30.0\n",
      "5      35    1          32.50             32.5               35.0\n",
      "6      42    2          48.75             49.0               42.0\n",
      "7      47    2          48.75             49.0               42.0\n",
      "8      51    2          48.75             49.0               55.0\n",
      "9      55    2          48.75             49.0               55.0\n"
     ]
    }
   ],
   "source": [
    "import numpy as np\n",
    "import pandas as pd\n",
    "data = {'Values': [12, 15, 22, 26, 30, 35, 42, 47, 51, 55]}\n",
    "df = pd.DataFrame(data)\n",
    "\n",
    "num_bins = 3  \n",
    "df.sort_values(by=['Values'], inplace=True)\n",
    "df['Bin'] = pd.cut(df['Values'], bins=num_bins, labels=False)\n",
    "df['Mean_Smoothed'] = df.groupby('Bin')['Values'].transform('mean')\n",
    "df['Median_Smoothed'] = df.groupby('Bin')['Values'].transform('median')\n",
    "df['Lower_Bound'] = df.groupby('Bin')['Values'].transform('min')\n",
    "df['Upper_Bound'] = df.groupby('Bin')['Values'].transform('max')\n",
    "df['Boundary_Smoothed'] = df.apply(lambda row: row['Lower_Bound'] \n",
    "                                   if abs(row['Values'] - row['Lower_Bound']) < abs(row['Values'] - row['Upper_Bound']) \n",
    "                                   else row['Upper_Bound'], axis=1)\n",
    "\n",
    "df.drop(columns=['Lower_Bound', 'Upper_Bound'], inplace=True)\n",
    "print(df)\n"
   ]
  }
 ],
 "metadata": {
  "kernelspec": {
   "display_name": "venv",
   "language": "python",
   "name": "python3"
  },
  "language_info": {
   "codemirror_mode": {
    "name": "ipython",
    "version": 3
   },
   "file_extension": ".py",
   "mimetype": "text/x-python",
   "name": "python",
   "nbconvert_exporter": "python",
   "pygments_lexer": "ipython3",
   "version": "3.12.3"
  }
 },
 "nbformat": 4,
 "nbformat_minor": 2
}
